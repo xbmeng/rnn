{
 "cells": [
  {
   "cell_type": "code",
   "execution_count": 1,
   "metadata": {},
   "outputs": [],
   "source": [
    "import numpy as np"
   ]
  },
  {
   "cell_type": "code",
   "execution_count": 4,
   "metadata": {},
   "outputs": [
    {
     "name": "stdout",
     "output_type": "stream",
     "text": [
      "before_activation [0.6 0.5]\n",
      "state [0.53704957 0.46211716]\n",
      "final_output [0.24612839]\n",
      "before_activation [1.2923401  1.39225678]\n",
      "state [0.85973818 0.88366641]\n",
      "final_output [0.3627071]\n",
      "before_activation [0.95107374 1.0254142 ]\n",
      "state [0.74026877 0.7720626 ]\n",
      "final_output [0.3284394]\n",
      "before_activation [1.40564566 1.55687879]\n",
      "state [0.88656589 0.91491336]\n",
      "final_output [0.37163926]\n",
      "before_activation [0.9631306  1.04327852]\n",
      "state [0.74567003 0.77917942]\n",
      "final_output [0.33040289]\n",
      "before_activation [1.40832083 1.56080577]\n",
      "state [0.88713702 0.9155509 ]\n",
      "final_output [0.37182388]\n",
      "before_activation [1.96337897 2.24364776]\n",
      "state [0.96134683 0.97774829]\n",
      "final_output [0.39168434]\n",
      "before_activation [0.98945917 1.08336868]\n",
      "state [0.75713162 0.79444499]\n",
      "final_output [0.33460216]\n"
     ]
    }
   ],
   "source": [
    "X = [1,2,1,2,1,2,3,1]\n",
    "state = [0.0,0.0]\n",
    "# 定义不同输入部分的权重\n",
    "w_cell_state = np.asarray([[0.1,0.2],[0.3,0.4]])\n",
    "w_cell_input = np.asarray([0.5,0.6])\n",
    "b_cell = np.asarray([0.1,-0.1])\n",
    "# 定义输出层的权重\n",
    "w_output = np.asarray([[0.1],[0.2]])\n",
    "b_output = 0.1\n",
    "# 按照时间顺序执行循环神经网络的前向传播过程\n",
    "for i in range(len(X)):\n",
    "    before_activetion = np.dot(state, w_cell_state) + X[i] * w_cell_input + b_cell\n",
    "    state = np.tanh(before_activetion)\n",
    "    #计算当前时刻的最终输出\n",
    "    final_output = np.dot(state,w_output) + b_output\n",
    "    #输出每一时刻的信息\n",
    "    print(\"before_activation\",before_activetion)\n",
    "    print(\"state\",state)\n",
    "    print(\"final_output\",final_output)"
   ]
  },
  {
   "cell_type": "code",
   "execution_count": null,
   "metadata": {},
   "outputs": [],
   "source": []
  }
 ],
 "metadata": {
  "kernelspec": {
   "display_name": "Python 3",
   "language": "python",
   "name": "python3"
  },
  "language_info": {
   "codemirror_mode": {
    "name": "ipython",
    "version": 3
   },
   "file_extension": ".py",
   "mimetype": "text/x-python",
   "name": "python",
   "nbconvert_exporter": "python",
   "pygments_lexer": "ipython3",
   "version": "3.7.0"
  }
 },
 "nbformat": 4,
 "nbformat_minor": 2
}
